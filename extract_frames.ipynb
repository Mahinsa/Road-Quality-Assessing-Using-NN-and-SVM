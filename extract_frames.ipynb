{
 "cells": [
  {
   "cell_type": "code",
   "execution_count": 15,
   "metadata": {},
   "outputs": [],
   "source": [
    "import cv2\n",
    "import os\n",
    "\n",
    "def extract_frames(video_path, output_folder, interval=30):\n",
    "    # Create output folder if it doesn't exist\n",
    "    if not os.path.exists(output_folder):\n",
    "        os.makedirs(output_folder)\n",
    "\n",
    "    # Open the video file\n",
    "    video = cv2.VideoCapture(video_path)\n",
    "    \n",
    "    # Get video properties\n",
    "    fps = video.get(cv2.CAP_PROP_FPS)\n",
    "    print(fps)\n",
    "    total_frames = int(video.get(cv2.CAP_PROP_FRAME_COUNT))\n",
    "    print(f\"Extracted total{total_frames} frames from the video.\")\n",
    "    frame_interval = int(fps * interval)\n",
    "\n",
    "    # Initialize variables\n",
    "    frame_count = 0\n",
    "    output_count = 71\n",
    "\n",
    "    while video.isOpened():\n",
    "        ret, frame = video.read()\n",
    "\n",
    "        if not ret:\n",
    "            break\n",
    "\n",
    "        frame_count += 1\n",
    "\n",
    "        if frame_count % frame_interval == 0:\n",
    "            output_path = os.path.join(output_folder, f\"frame_{output_count}.jpg\")\n",
    "            cv2.imwrite(output_path, frame)\n",
    "            output_count += 1\n",
    "\n",
    "    # Release the video object and close any open windows\n",
    "    video.release()\n",
    "    cv2.destroyAllWindows()\n",
    "\n",
    "    print(f\"Extracted {output_count} frames from the video.\")"
   ]
  },
  {
   "cell_type": "code",
   "execution_count": 16,
   "metadata": {},
   "outputs": [
    {
     "name": "stdout",
     "output_type": "stream",
     "text": [
      "30.0\n",
      "Extracted total324 frames from the video.\n",
      "Extracted 117 frames from the video.\n"
     ]
    }
   ],
   "source": [
    "video_path = \"D:/msc/ML/Assigment2/w1-14.mp4\"\n",
    "output_folder = \"D:/msc/ML/Assigment2/Research/data/crash\"\n",
    "extract_frames(video_path, output_folder, interval=0.25)"
   ]
  }
 ],
 "metadata": {
  "kernelspec": {
   "display_name": "Python 3",
   "language": "python",
   "name": "python3"
  },
  "language_info": {
   "codemirror_mode": {
    "name": "ipython",
    "version": 3
   },
   "file_extension": ".py",
   "mimetype": "text/x-python",
   "name": "python",
   "nbconvert_exporter": "python",
   "pygments_lexer": "ipython3",
   "version": "3.10.11"
  },
  "orig_nbformat": 4
 },
 "nbformat": 4,
 "nbformat_minor": 2
}
